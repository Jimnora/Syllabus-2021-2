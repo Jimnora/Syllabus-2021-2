{
 "cells": [
  {
   "cell_type": "markdown",
   "source": [
    "## El dataset de LaLonde\n",
    "\n",
    "Estos datos se han vuelto famosos para ejemplificar y entrenar lo difícil que puede ser entender los efectos. Provienen de un artículo escrito por Robert LaLonde en 1986, y que trata de entender lso efectos de un programa de entrenamiento laboral, un par de años después que ese entrenamiento concluyera. \n",
    "\n",
    "El dataset son solo hombres. Tiene una columna **treat**, por _treatment_, que marca con un 1 aquellas personas que si completaron el programa. **age** es la edad en años, **educ** son los años de educación de la persona, **black** e **hispan** se refiere a la raza, **married** al estado civil, **nodegree** asigna un 1 a quienes no tienen un grado universitario, **re74** y **re75** son los salarios reales de las personas en los años 1974 y 1975 (antes del programa), y **re78** son los salarios el año 1978, después de que terminara el programa. \n"
   ],
   "metadata": {}
  },
  {
   "cell_type": "code",
   "execution_count": 173,
   "source": [
    "import pandas as pd\r\n",
    "\r\n",
    "lalonde = pd.read_csv('lalonde.csv', index_col=0)\r\n",
    "lalonde.head()"
   ],
   "outputs": [
    {
     "output_type": "execute_result",
     "data": {
      "text/html": [
       "<div>\n",
       "<style scoped>\n",
       "    .dataframe tbody tr th:only-of-type {\n",
       "        vertical-align: middle;\n",
       "    }\n",
       "\n",
       "    .dataframe tbody tr th {\n",
       "        vertical-align: top;\n",
       "    }\n",
       "\n",
       "    .dataframe thead th {\n",
       "        text-align: right;\n",
       "    }\n",
       "</style>\n",
       "<table border=\"1\" class=\"dataframe\">\n",
       "  <thead>\n",
       "    <tr style=\"text-align: right;\">\n",
       "      <th></th>\n",
       "      <th>treat</th>\n",
       "      <th>age</th>\n",
       "      <th>educ</th>\n",
       "      <th>black</th>\n",
       "      <th>hispan</th>\n",
       "      <th>married</th>\n",
       "      <th>nodegree</th>\n",
       "      <th>re74</th>\n",
       "      <th>re75</th>\n",
       "      <th>re78</th>\n",
       "    </tr>\n",
       "    <tr>\n",
       "      <th>id</th>\n",
       "      <th></th>\n",
       "      <th></th>\n",
       "      <th></th>\n",
       "      <th></th>\n",
       "      <th></th>\n",
       "      <th></th>\n",
       "      <th></th>\n",
       "      <th></th>\n",
       "      <th></th>\n",
       "      <th></th>\n",
       "    </tr>\n",
       "  </thead>\n",
       "  <tbody>\n",
       "    <tr>\n",
       "      <th>NSW1</th>\n",
       "      <td>1</td>\n",
       "      <td>37</td>\n",
       "      <td>11</td>\n",
       "      <td>1</td>\n",
       "      <td>0</td>\n",
       "      <td>1</td>\n",
       "      <td>1</td>\n",
       "      <td>0.0</td>\n",
       "      <td>0.0</td>\n",
       "      <td>9930.0460</td>\n",
       "    </tr>\n",
       "    <tr>\n",
       "      <th>NSW2</th>\n",
       "      <td>1</td>\n",
       "      <td>22</td>\n",
       "      <td>9</td>\n",
       "      <td>0</td>\n",
       "      <td>1</td>\n",
       "      <td>0</td>\n",
       "      <td>1</td>\n",
       "      <td>0.0</td>\n",
       "      <td>0.0</td>\n",
       "      <td>3595.8940</td>\n",
       "    </tr>\n",
       "    <tr>\n",
       "      <th>NSW3</th>\n",
       "      <td>1</td>\n",
       "      <td>30</td>\n",
       "      <td>12</td>\n",
       "      <td>1</td>\n",
       "      <td>0</td>\n",
       "      <td>0</td>\n",
       "      <td>0</td>\n",
       "      <td>0.0</td>\n",
       "      <td>0.0</td>\n",
       "      <td>24909.4500</td>\n",
       "    </tr>\n",
       "    <tr>\n",
       "      <th>NSW4</th>\n",
       "      <td>1</td>\n",
       "      <td>27</td>\n",
       "      <td>11</td>\n",
       "      <td>1</td>\n",
       "      <td>0</td>\n",
       "      <td>0</td>\n",
       "      <td>1</td>\n",
       "      <td>0.0</td>\n",
       "      <td>0.0</td>\n",
       "      <td>7506.1460</td>\n",
       "    </tr>\n",
       "    <tr>\n",
       "      <th>NSW5</th>\n",
       "      <td>1</td>\n",
       "      <td>33</td>\n",
       "      <td>8</td>\n",
       "      <td>1</td>\n",
       "      <td>0</td>\n",
       "      <td>0</td>\n",
       "      <td>1</td>\n",
       "      <td>0.0</td>\n",
       "      <td>0.0</td>\n",
       "      <td>289.7899</td>\n",
       "    </tr>\n",
       "  </tbody>\n",
       "</table>\n",
       "</div>"
      ],
      "text/plain": [
       "      treat  age  educ  black  hispan  married  nodegree  re74  re75  \\\n",
       "id                                                                     \n",
       "NSW1      1   37    11      1       0        1         1   0.0   0.0   \n",
       "NSW2      1   22     9      0       1        0         1   0.0   0.0   \n",
       "NSW3      1   30    12      1       0        0         0   0.0   0.0   \n",
       "NSW4      1   27    11      1       0        0         1   0.0   0.0   \n",
       "NSW5      1   33     8      1       0        0         1   0.0   0.0   \n",
       "\n",
       "            re78  \n",
       "id                \n",
       "NSW1   9930.0460  \n",
       "NSW2   3595.8940  \n",
       "NSW3  24909.4500  \n",
       "NSW4   7506.1460  \n",
       "NSW5    289.7899  "
      ]
     },
     "metadata": {},
     "execution_count": 173
    }
   ],
   "metadata": {}
  },
  {
   "cell_type": "markdown",
   "source": [
    "## Primer análisis: medias (average treatment effect), test t para ver si dos series vienen de la misma distribución. \n",
    "\n",
    "Veamos primero la idea más obvia que se nos puede ocurrir: si queremos ver que el programa funciona, veamos el salario promedio de la gente que recibió el programa y los que no? "
   ],
   "metadata": {}
  },
  {
   "cell_type": "code",
   "execution_count": 174,
   "source": [
    "lalonde.groupby(\"treat\").mean()[\"re78\"]"
   ],
   "outputs": [
    {
     "output_type": "execute_result",
     "data": {
      "text/plain": [
       "treat\n",
       "0    6984.169742\n",
       "1    6349.143530\n",
       "Name: re78, dtype: float64"
      ]
     },
     "metadata": {},
     "execution_count": 174
    }
   ],
   "metadata": {}
  },
  {
   "cell_type": "markdown",
   "source": [
    "!El grupo sin entrenamiento obtiene mayor salario! ¿Será que el programa en realida dhace mal? O, tal vez, esta diferencia podría ser simplemente por cómo se distribuyeron los grupos. Para ver si es estadísticamente significativa, vamos a hacer un test t. "
   ],
   "metadata": {}
  },
  {
   "cell_type": "code",
   "execution_count": 175,
   "source": [
    "from scipy.stats import ttest_ind\r\n",
    "\r\n",
    "lalonde_t0 = lalonde[lalonde[\"treat\"]==0]\r\n",
    "lalonde_t1 = lalonde[lalonde[\"treat\"]==1]\r\n",
    "\r\n",
    "ttest_ind(lalonde_t0[\"re78\"], lalonde_t1[\"re78\"])\r\n"
   ],
   "outputs": [
    {
     "output_type": "execute_result",
     "data": {
      "text/plain": [
       "Ttest_indResult(statistic=0.9663522254463778, pvalue=0.3342496685909654)"
      ]
     },
     "metadata": {},
     "execution_count": 175
    }
   ],
   "metadata": {}
  },
  {
   "cell_type": "markdown",
   "source": [
    "Lo primero que retorna la función es el estadístico t, y lo segundo es el valor de significancia. A un 33%, no podemos deducir que los salarios son significativamente distintos, y por lo tanto, tal vez deberíamos concluír en vez que en realidad no hay diferencia entre los que toman el programa y los que no. \n",
    "\n",
    "Esto sigue siendo extraño, y vamos a tratar de hacer algo mejor. Contemos cuantos individuos hay por grupo. "
   ],
   "metadata": {}
  },
  {
   "cell_type": "code",
   "execution_count": 176,
   "source": [
    "lalonde.groupby(\"treat\").count()"
   ],
   "outputs": [
    {
     "output_type": "execute_result",
     "data": {
      "text/html": [
       "<div>\n",
       "<style scoped>\n",
       "    .dataframe tbody tr th:only-of-type {\n",
       "        vertical-align: middle;\n",
       "    }\n",
       "\n",
       "    .dataframe tbody tr th {\n",
       "        vertical-align: top;\n",
       "    }\n",
       "\n",
       "    .dataframe thead th {\n",
       "        text-align: right;\n",
       "    }\n",
       "</style>\n",
       "<table border=\"1\" class=\"dataframe\">\n",
       "  <thead>\n",
       "    <tr style=\"text-align: right;\">\n",
       "      <th></th>\n",
       "      <th>age</th>\n",
       "      <th>educ</th>\n",
       "      <th>black</th>\n",
       "      <th>hispan</th>\n",
       "      <th>married</th>\n",
       "      <th>nodegree</th>\n",
       "      <th>re74</th>\n",
       "      <th>re75</th>\n",
       "      <th>re78</th>\n",
       "    </tr>\n",
       "    <tr>\n",
       "      <th>treat</th>\n",
       "      <th></th>\n",
       "      <th></th>\n",
       "      <th></th>\n",
       "      <th></th>\n",
       "      <th></th>\n",
       "      <th></th>\n",
       "      <th></th>\n",
       "      <th></th>\n",
       "      <th></th>\n",
       "    </tr>\n",
       "  </thead>\n",
       "  <tbody>\n",
       "    <tr>\n",
       "      <th>0</th>\n",
       "      <td>429</td>\n",
       "      <td>429</td>\n",
       "      <td>429</td>\n",
       "      <td>429</td>\n",
       "      <td>429</td>\n",
       "      <td>429</td>\n",
       "      <td>429</td>\n",
       "      <td>429</td>\n",
       "      <td>429</td>\n",
       "    </tr>\n",
       "    <tr>\n",
       "      <th>1</th>\n",
       "      <td>185</td>\n",
       "      <td>185</td>\n",
       "      <td>185</td>\n",
       "      <td>185</td>\n",
       "      <td>185</td>\n",
       "      <td>185</td>\n",
       "      <td>185</td>\n",
       "      <td>185</td>\n",
       "      <td>185</td>\n",
       "    </tr>\n",
       "  </tbody>\n",
       "</table>\n",
       "</div>"
      ],
      "text/plain": [
       "       age  educ  black  hispan  married  nodegree  re74  re75  re78\n",
       "treat                                                               \n",
       "0      429   429    429     429      429       429   429   429   429\n",
       "1      185   185    185     185      185       185   185   185   185"
      ]
     },
     "metadata": {},
     "execution_count": 176
    }
   ],
   "metadata": {}
  },
  {
   "cell_type": "markdown",
   "source": [
    "Ahora cuantos hay con salario = 0 (es decir, que no tenían trabajo). Vemos que son más de la mitad de los que si recibieron el _treatment_ (el programa de entrenamiento laboral). Además, si consideramos los salarios el 74 y el 75, el grupo con _treatment_ 1 parte desde un salario mucho más bajo. "
   ],
   "metadata": {}
  },
  {
   "cell_type": "code",
   "execution_count": 177,
   "source": [
    "lalonde[lalonde[\"re74\"]<=0].groupby(\"treat\").count()"
   ],
   "outputs": [
    {
     "output_type": "execute_result",
     "data": {
      "text/html": [
       "<div>\n",
       "<style scoped>\n",
       "    .dataframe tbody tr th:only-of-type {\n",
       "        vertical-align: middle;\n",
       "    }\n",
       "\n",
       "    .dataframe tbody tr th {\n",
       "        vertical-align: top;\n",
       "    }\n",
       "\n",
       "    .dataframe thead th {\n",
       "        text-align: right;\n",
       "    }\n",
       "</style>\n",
       "<table border=\"1\" class=\"dataframe\">\n",
       "  <thead>\n",
       "    <tr style=\"text-align: right;\">\n",
       "      <th></th>\n",
       "      <th>age</th>\n",
       "      <th>educ</th>\n",
       "      <th>black</th>\n",
       "      <th>hispan</th>\n",
       "      <th>married</th>\n",
       "      <th>nodegree</th>\n",
       "      <th>re74</th>\n",
       "      <th>re75</th>\n",
       "      <th>re78</th>\n",
       "    </tr>\n",
       "    <tr>\n",
       "      <th>treat</th>\n",
       "      <th></th>\n",
       "      <th></th>\n",
       "      <th></th>\n",
       "      <th></th>\n",
       "      <th></th>\n",
       "      <th></th>\n",
       "      <th></th>\n",
       "      <th></th>\n",
       "      <th></th>\n",
       "    </tr>\n",
       "  </thead>\n",
       "  <tbody>\n",
       "    <tr>\n",
       "      <th>0</th>\n",
       "      <td>112</td>\n",
       "      <td>112</td>\n",
       "      <td>112</td>\n",
       "      <td>112</td>\n",
       "      <td>112</td>\n",
       "      <td>112</td>\n",
       "      <td>112</td>\n",
       "      <td>112</td>\n",
       "      <td>112</td>\n",
       "    </tr>\n",
       "    <tr>\n",
       "      <th>1</th>\n",
       "      <td>131</td>\n",
       "      <td>131</td>\n",
       "      <td>131</td>\n",
       "      <td>131</td>\n",
       "      <td>131</td>\n",
       "      <td>131</td>\n",
       "      <td>131</td>\n",
       "      <td>131</td>\n",
       "      <td>131</td>\n",
       "    </tr>\n",
       "  </tbody>\n",
       "</table>\n",
       "</div>"
      ],
      "text/plain": [
       "       age  educ  black  hispan  married  nodegree  re74  re75  re78\n",
       "treat                                                               \n",
       "0      112   112    112     112      112       112   112   112   112\n",
       "1      131   131    131     131      131       131   131   131   131"
      ]
     },
     "metadata": {},
     "execution_count": 177
    }
   ],
   "metadata": {}
  },
  {
   "cell_type": "code",
   "execution_count": 178,
   "source": [
    "lalonde.groupby(\"treat\").mean()[[\"re74\",\"re75\",\"re78\"]]"
   ],
   "outputs": [
    {
     "output_type": "execute_result",
     "data": {
      "text/html": [
       "<div>\n",
       "<style scoped>\n",
       "    .dataframe tbody tr th:only-of-type {\n",
       "        vertical-align: middle;\n",
       "    }\n",
       "\n",
       "    .dataframe tbody tr th {\n",
       "        vertical-align: top;\n",
       "    }\n",
       "\n",
       "    .dataframe thead th {\n",
       "        text-align: right;\n",
       "    }\n",
       "</style>\n",
       "<table border=\"1\" class=\"dataframe\">\n",
       "  <thead>\n",
       "    <tr style=\"text-align: right;\">\n",
       "      <th></th>\n",
       "      <th>re74</th>\n",
       "      <th>re75</th>\n",
       "      <th>re78</th>\n",
       "    </tr>\n",
       "    <tr>\n",
       "      <th>treat</th>\n",
       "      <th></th>\n",
       "      <th></th>\n",
       "      <th></th>\n",
       "    </tr>\n",
       "  </thead>\n",
       "  <tbody>\n",
       "    <tr>\n",
       "      <th>0</th>\n",
       "      <td>5619.236506</td>\n",
       "      <td>2466.484443</td>\n",
       "      <td>6984.169742</td>\n",
       "    </tr>\n",
       "    <tr>\n",
       "      <th>1</th>\n",
       "      <td>2095.573689</td>\n",
       "      <td>1532.055314</td>\n",
       "      <td>6349.143530</td>\n",
       "    </tr>\n",
       "  </tbody>\n",
       "</table>\n",
       "</div>"
      ],
      "text/plain": [
       "              re74         re75         re78\n",
       "treat                                       \n",
       "0      5619.236506  2466.484443  6984.169742\n",
       "1      2095.573689  1532.055314  6349.143530"
      ]
     },
     "metadata": {},
     "execution_count": 178
    }
   ],
   "metadata": {}
  },
  {
   "cell_type": "markdown",
   "source": [
    "Por todo esto, ¿pareciera ser que el programa si funciona? Después de todo, los individuos del programa logran subir su salario mucho más que los individuos que no asisten al programa. \n",
    "\n",
    "Ahora, se podría decir también que no tenemos mucho fundamento para admitir esto, puesto que quizás las personas que asistieron al programa tenían de por sí un mayor potencial para subir su salario. Por supuesto, no podemos saber a ciencia cierta qué hubiese pasado si las personas que no tomaron el programa (_treatment_ = 0) en realidad lo toman. Pero podemos hacer varias cosas adicionales. \n",
    "\n",
    "Por ejemplo, podemos estimar una regresion lineal que tome en cuenta algunas variables, y que trate de predecir el salario del año 1978. Lo primero sería usar solo la variable **treat**\n"
   ],
   "metadata": {}
  },
  {
   "cell_type": "code",
   "execution_count": 179,
   "source": [
    "from sklearn import datasets, linear_model\r\n",
    "from sklearn.metrics import mean_squared_error, r2_score\r\n",
    "\r\n",
    "X = lalonde[[\"treat\"]]\r\n",
    "y = lalonde[\"re78\"]\r\n",
    "\r\n",
    "# Crea un objeto regresión\r\n",
    "regr = linear_model.LinearRegression()\r\n",
    "regr.fit(X,y)\r\n",
    "\r\n",
    "print('Coeficientes: \\n', regr.coef_)\r\n",
    "print('Beta0: \\n', regr.intercept_)"
   ],
   "outputs": [
    {
     "output_type": "stream",
     "name": "stdout",
     "text": [
      "Coeficientes: \n",
      " [-635.02621204]\n",
      "Beta0: \n",
      " 6984.169742307693\n"
     ]
    }
   ],
   "metadata": {}
  },
  {
   "cell_type": "markdown",
   "source": [
    "Nos da que el efecto es negativo, es decir, que un incremento en **treat** debería contribuir de forma negativa al salario. Pero eso ya lo vimos cuando tomamos las medias (nota que la diferencia en las medias es exactamente lo mismo que el coeficiente de acá. ¿Puedes ver por qué?). \n",
    "\n",
    "Una cosa un poco más útil sería _controlar_ por algunas variables. Para esto, estimamos una regresión con algunos parámetros adicionales, en nuestro caso los salarios anteriores, y vemos el signo del coeficiente. "
   ],
   "metadata": {}
  },
  {
   "cell_type": "code",
   "execution_count": 180,
   "source": [
    "\r\n",
    "X = lalonde[[\"treat\",\"re74\",\"re75\"]]\r\n",
    "y = lalonde[\"re78\"]\r\n",
    "\r\n",
    "# Crea un objeto regresión\r\n",
    "regr = linear_model.LinearRegression()\r\n",
    "regr.fit(X,y)\r\n",
    "\r\n",
    "print('Coeficientes: \\n', regr.coef_)\r\n",
    "print('Beta0: \\n', regr.intercept_)"
   ],
   "outputs": [
    {
     "output_type": "stream",
     "name": "stdout",
     "text": [
      "Coeficientes: \n",
      " [7.98127034e+02 3.48177080e-01 2.20770746e-01]\n",
      "Beta0: \n",
      " 4483.152775135084\n"
     ]
    }
   ],
   "metadata": {}
  },
  {
   "cell_type": "markdown",
   "source": [
    "Ahora el signo es positivo: cuando los salarios se mantienen constantes, un incremento en **treat** produce un  incremento importante en el salario. Ahora bien, podría ser que los salarios también dependieran de algo más, por ejemplo, es razonable pensar que los hombres con salarios bajos son más propensos para tomar el programa de entrenamiento. "
   ],
   "metadata": {}
  },
  {
   "cell_type": "markdown",
   "source": [
    "## Matching y propensity score\n",
    "\n",
    "De forma un poco más avanzada, uno puede intentar _simular_ que los grupos **treat**=0 y **treat**=1 hayan sido dispuestos de forma aleatoria. En esta actividad vamos a ver una forma de hacerlo: vamos a hacerles matching y luego estratificar en cinco quintiles, usando lo que se conoce como el __propensity score__. \n",
    "\n",
    "Lo primero que vamos a hacer es usar dos clasificadores: regresión logística y random forest, para poder predecir que tan probable era que una persona recibiera el _treatment_, en este caso, el programa de entrenamiento laboral. "
   ],
   "metadata": {}
  },
  {
   "cell_type": "code",
   "execution_count": 181,
   "source": [
    "from sklearn import linear_model\r\n",
    "from sklearn.model_selection import cross_val_predict\r\n",
    "from sklearn.model_selection import cross_val_score\r\n",
    "\r\n",
    "logistic = linear_model.LogisticRegression(max_iter=500)\r\n",
    "\r\n",
    "X = lalonde[[\"age\", \"educ\", \"black\", \"hispan\", \"married\", \"nodegree\", \"re74\", \"re75\"]]\r\n",
    "y = lalonde[\"treat\"]\r\n",
    "\r\n",
    "\r\n",
    "precision = cross_val_score(logistic, X, y, cv = 10, scoring = \"precision\")\r\n",
    "recall = cross_val_score(logistic, X, y, cv = 10, scoring = \"recall\")\r\n",
    "\r\n",
    "print(\"precision: \"+str(precision.mean()))\r\n",
    "print(\"recall: \"+str(recall.mean()))\r\n"
   ],
   "outputs": [
    {
     "output_type": "stream",
     "name": "stdout",
     "text": [
      "precision: 0.6265300596376447\n",
      "recall: 0.6461988304093567\n"
     ]
    }
   ],
   "metadata": {}
  },
  {
   "cell_type": "code",
   "execution_count": 182,
   "source": [
    "from sklearn.ensemble import RandomForestClassifier\r\n",
    "\r\n",
    "rforest = RandomForestClassifier(max_depth = 2)\r\n",
    "\r\n",
    "\r\n",
    "precision = cross_val_score(rforest, X, y, cv =10, scoring = \"precision\")\r\n",
    "recall = cross_val_score(rforest, X, y, cv = 10, scoring = \"recall\")\r\n",
    "\r\n",
    "print(\"precision: \"+str(precision.mean()))\r\n",
    "print(\"recall: \"+str(recall.mean()))\r\n",
    "\r\n"
   ],
   "outputs": [
    {
     "output_type": "stream",
     "name": "stderr",
     "text": [
      "C:\\Users\\diego\\AppData\\Local\\Programs\\Python\\Python39\\lib\\site-packages\\sklearn\\metrics\\_classification.py:1248: UndefinedMetricWarning: Precision is ill-defined and being set to 0.0 due to no predicted samples. Use `zero_division` parameter to control this behavior.\n",
      "  _warn_prf(average, modifier, msg_start, len(result))\n"
     ]
    },
    {
     "output_type": "stream",
     "name": "stdout",
     "text": [
      "precision: 0.6246031746031746\n",
      "recall: 0.4625730994152046\n"
     ]
    }
   ],
   "metadata": {}
  },
  {
   "cell_type": "markdown",
   "source": [
    "## Ejercicio 1\n",
    "\n",
    "¿Cuál de los clasificadores parece el mejor? Valdrá la pena probar con un KNN y ver que pasa?"
   ],
   "metadata": {}
  },
  {
   "cell_type": "markdown",
   "source": [
    "Como se puede ver, la regresion logistica presenta valores mas altos, tanto para precision como para recall. Asi, el modelo de regresion logistica se adecua mas, logrando menos falsos positivos y negativos que el modelo random forest. Respecto a utilizar un modelo KNN, el hecho de que haya una mayor cantidad de datos treat=0 significa que el modelo tenderia a asignar 0 a valores cercanos. La proporcion entre valores 1 y 0 debe ser idealmente 50/50, por lo que no valdria la pena realizar un test con este."
   ],
   "metadata": {}
  },
  {
   "cell_type": "markdown",
   "source": [
    "Ahora vamos a usar predict_proba para pedir la probabilidad de que una persona tenga el _treatment_ (osea que su variable treatment sea 1). Esta probabilidad es el propensity score. "
   ],
   "metadata": {}
  },
  {
   "cell_type": "code",
   "execution_count": 183,
   "source": [
    "logistic.fit(X,y) # entrenamos el modelo ahora si con todos los datos\r\n",
    "\r\n",
    "prediction = logistic.predict_proba(X) \r\n",
    "\r\n",
    "# ahora le agregamos a nuestro dataframe el score. \r\n",
    "\r\n",
    "lalonde['propensity_score'] = pd.Series(prediction[:,1], index = lalonde.index)\r\n",
    "lalonde.head()"
   ],
   "outputs": [
    {
     "output_type": "execute_result",
     "data": {
      "text/html": [
       "<div>\n",
       "<style scoped>\n",
       "    .dataframe tbody tr th:only-of-type {\n",
       "        vertical-align: middle;\n",
       "    }\n",
       "\n",
       "    .dataframe tbody tr th {\n",
       "        vertical-align: top;\n",
       "    }\n",
       "\n",
       "    .dataframe thead th {\n",
       "        text-align: right;\n",
       "    }\n",
       "</style>\n",
       "<table border=\"1\" class=\"dataframe\">\n",
       "  <thead>\n",
       "    <tr style=\"text-align: right;\">\n",
       "      <th></th>\n",
       "      <th>treat</th>\n",
       "      <th>age</th>\n",
       "      <th>educ</th>\n",
       "      <th>black</th>\n",
       "      <th>hispan</th>\n",
       "      <th>married</th>\n",
       "      <th>nodegree</th>\n",
       "      <th>re74</th>\n",
       "      <th>re75</th>\n",
       "      <th>re78</th>\n",
       "      <th>propensity_score</th>\n",
       "    </tr>\n",
       "    <tr>\n",
       "      <th>id</th>\n",
       "      <th></th>\n",
       "      <th></th>\n",
       "      <th></th>\n",
       "      <th></th>\n",
       "      <th></th>\n",
       "      <th></th>\n",
       "      <th></th>\n",
       "      <th></th>\n",
       "      <th></th>\n",
       "      <th></th>\n",
       "      <th></th>\n",
       "    </tr>\n",
       "  </thead>\n",
       "  <tbody>\n",
       "    <tr>\n",
       "      <th>NSW1</th>\n",
       "      <td>1</td>\n",
       "      <td>37</td>\n",
       "      <td>11</td>\n",
       "      <td>1</td>\n",
       "      <td>0</td>\n",
       "      <td>1</td>\n",
       "      <td>1</td>\n",
       "      <td>0.0</td>\n",
       "      <td>0.0</td>\n",
       "      <td>9930.0460</td>\n",
       "      <td>0.431932</td>\n",
       "    </tr>\n",
       "    <tr>\n",
       "      <th>NSW2</th>\n",
       "      <td>1</td>\n",
       "      <td>22</td>\n",
       "      <td>9</td>\n",
       "      <td>0</td>\n",
       "      <td>1</td>\n",
       "      <td>0</td>\n",
       "      <td>1</td>\n",
       "      <td>0.0</td>\n",
       "      <td>0.0</td>\n",
       "      <td>3595.8940</td>\n",
       "      <td>0.134968</td>\n",
       "    </tr>\n",
       "    <tr>\n",
       "      <th>NSW3</th>\n",
       "      <td>1</td>\n",
       "      <td>30</td>\n",
       "      <td>12</td>\n",
       "      <td>1</td>\n",
       "      <td>0</td>\n",
       "      <td>0</td>\n",
       "      <td>0</td>\n",
       "      <td>0.0</td>\n",
       "      <td>0.0</td>\n",
       "      <td>24909.4500</td>\n",
       "      <td>0.719753</td>\n",
       "    </tr>\n",
       "    <tr>\n",
       "      <th>NSW4</th>\n",
       "      <td>1</td>\n",
       "      <td>27</td>\n",
       "      <td>11</td>\n",
       "      <td>1</td>\n",
       "      <td>0</td>\n",
       "      <td>0</td>\n",
       "      <td>1</td>\n",
       "      <td>0.0</td>\n",
       "      <td>0.0</td>\n",
       "      <td>7506.1460</td>\n",
       "      <td>0.658953</td>\n",
       "    </tr>\n",
       "    <tr>\n",
       "      <th>NSW5</th>\n",
       "      <td>1</td>\n",
       "      <td>33</td>\n",
       "      <td>8</td>\n",
       "      <td>1</td>\n",
       "      <td>0</td>\n",
       "      <td>0</td>\n",
       "      <td>1</td>\n",
       "      <td>0.0</td>\n",
       "      <td>0.0</td>\n",
       "      <td>289.7899</td>\n",
       "      <td>0.695676</td>\n",
       "    </tr>\n",
       "  </tbody>\n",
       "</table>\n",
       "</div>"
      ],
      "text/plain": [
       "      treat  age  educ  black  hispan  married  nodegree  re74  re75  \\\n",
       "id                                                                     \n",
       "NSW1      1   37    11      1       0        1         1   0.0   0.0   \n",
       "NSW2      1   22     9      0       1        0         1   0.0   0.0   \n",
       "NSW3      1   30    12      1       0        0         0   0.0   0.0   \n",
       "NSW4      1   27    11      1       0        0         1   0.0   0.0   \n",
       "NSW5      1   33     8      1       0        0         1   0.0   0.0   \n",
       "\n",
       "            re78  propensity_score  \n",
       "id                                  \n",
       "NSW1   9930.0460          0.431932  \n",
       "NSW2   3595.8940          0.134968  \n",
       "NSW3  24909.4500          0.719753  \n",
       "NSW4   7506.1460          0.658953  \n",
       "NSW5    289.7899          0.695676  "
      ]
     },
     "metadata": {},
     "execution_count": 183
    }
   ],
   "metadata": {}
  },
  {
   "cell_type": "markdown",
   "source": [
    "Ahora vamos a dividir nuestro dataset en cinco quintiles, de acuerdo al propensity score. Esto va a significar poder agrupar por individuos que se parezcan más o menos en cuanto a qué tan probable era que recibieran el _treatment_. "
   ],
   "metadata": {}
  },
  {
   "cell_type": "code",
   "execution_count": 184,
   "source": [
    "quintiles = lalonde['propensity_score'].quantile([0, .2, .4, .6, .8, 1])\r\n",
    "quintiles"
   ],
   "outputs": [
    {
     "output_type": "execute_result",
     "data": {
      "text/plain": [
       "0.0    0.009155\n",
       "0.2    0.061409\n",
       "0.4    0.126959\n",
       "0.6    0.197364\n",
       "0.8    0.675369\n",
       "1.0    0.781233\n",
       "Name: propensity_score, dtype: float64"
      ]
     },
     "metadata": {},
     "execution_count": 184
    }
   ],
   "metadata": {}
  },
  {
   "cell_type": "code",
   "execution_count": 185,
   "source": [
    "lalondeq1 = lalonde[lalonde[\"propensity_score\"]<0.060138]\r\n",
    "lalondeq2 = lalonde[(lalonde[\"propensity_score\"]>=0.060138) & (lalonde[\"propensity_score\"]<0.126356)]\r\n",
    "lalondeq3 = lalonde[(lalonde[\"propensity_score\"]>=0.126356) & (lalonde[\"propensity_score\"]<0.198206)]\r\n",
    "lalondeq4 = lalonde[(lalonde[\"propensity_score\"]>=0.198206) & (lalonde[\"propensity_score\"]<0.677507)]\r\n",
    "lalondeq5 = lalonde[lalonde[\"propensity_score\"]>=0.677507]"
   ],
   "outputs": [],
   "metadata": {}
  },
  {
   "cell_type": "markdown",
   "source": [
    "## Ejercicio 2\n",
    "\n",
    "Mira estos cinco quintiles. ¿En cuales la media del ingreso en el año 78 es más grande para el grupo _treatment_ = 1? ¿Hay alguno en que todavía sea más grande el de _treatment_ = 0? ¿Por qué crees que es eso? \n"
   ],
   "metadata": {}
  },
  {
   "cell_type": "code",
   "execution_count": 188,
   "source": [
    "print(lalondeq1.groupby(\"treat\").mean()[[\"re74\",\"re78\",\"black\",\"hispan\",\"age\",\"married\"]])\r\n",
    "print(lalondeq2.groupby(\"treat\").mean()[[\"re74\",\"re78\",\"black\",\"hispan\",\"age\",\"married\"]])\r\n",
    "print(lalondeq3.groupby(\"treat\").mean()[[\"re74\",\"re78\",\"black\",\"hispan\",\"age\",\"married\"]])\r\n",
    "print(lalondeq4.groupby(\"treat\").mean()[[\"re74\",\"re78\",\"black\",\"hispan\",\"age\",\"married\"]])\r\n",
    "print(lalondeq5.groupby(\"treat\").mean()[[\"re74\",\"re78\",\"black\",\"hispan\",\"age\",\"married\"]])"
   ],
   "outputs": [
    {
     "output_type": "stream",
     "name": "stdout",
     "text": [
      "               re74          re78  black    hispan        age  married\n",
      "treat                                                                 \n",
      "0      13304.738496  10787.180487    0.0  0.109244  32.722689  0.97479\n",
      "1       7403.025500   3394.231500    0.0  0.500000  23.000000  1.00000\n",
      "              re74         re78     black    hispan        age   married\n",
      "treat                                                                   \n",
      "0      3827.210997  5880.998505  0.000000  0.247788  30.743363  0.690265\n",
      "1      6761.894611  9284.531133  0.111111  0.555556  23.222222  0.555556\n",
      "              re74         re78  black    hispan        age   married\n",
      "treat                                                                \n",
      "0      1144.028680  5523.907675    0.0  0.186916  21.803738  0.009346\n",
      "1       572.422968  8611.749421    0.0  0.263158  25.947368  0.000000\n",
      "              re74         re78     black  hispan        age   married\n",
      "treat                                                                 \n",
      "0      5418.722574  5979.341317  0.933333     0.0  29.422222  0.555556\n",
      "1      3571.274859  6186.331959  1.000000     0.0  28.025316  0.354430\n",
      "             re74         re78  black  hispan        age  married\n",
      "treat                                                            \n",
      "0      636.892288  4174.511778    1.0     0.0  22.222222      0.0\n",
      "1      250.148416  5682.879554    1.0     0.0  23.868421      0.0\n"
     ]
    }
   ],
   "metadata": {}
  },
  {
   "cell_type": "markdown",
   "source": [
    "El unico quintil donde la media de ingreso para el año 78 es mayor en gente que no realizó el programa es el primero. Para el resto de quintiles, la media es mayor para treat = 1.\r\n",
    "La razon de esto es evidente dado las caracteristicas de este grupo(primer quintil). Vemos que los que no realizaron el programa en el primer quintil tienen un sueldo promedio muy alto para el año 74, ademas de tener el promedio de edad mas alto entre todos los grupos, y con la mayoria casados. Ademas, casi ninguna persona en el quintil 1 que no hizo el programa se identifica como afroamericano o hispanico, fragmentos de la sociedad historicamente oprimidos en Estados Unidos, y quienes necesitarian principalmente programas que les ayuden a surgir. Asi, podemos deducir que este grupo corresponde a gente de edad mayor, blancos, de clase alta en promedio. Asi, es muy poco probable que necesiten realizar el programa, no como el quintil 5, que esta compuesto casi totalmente por gente afroamericana joven."
   ],
   "metadata": {}
  },
  {
   "cell_type": "markdown",
   "source": [
    "## Ejercicio 3\n",
    "\n",
    "Ahora calcula estadísticos t para cada quintil. Cuenta, además, cuantos indviduos hay por quintil. ¿Hay algo que podamos decir con propiedad? \n"
   ],
   "metadata": {}
  },
  {
   "cell_type": "code",
   "execution_count": 194,
   "source": [
    "lalondeq1_t0 = lalondeq1[lalondeq1[\"treat\"]==0]\r\n",
    "lalondeq1_t1 = lalondeq1[lalondeq1[\"treat\"]==1]\r\n",
    "print(ttest_ind(lalondeq1_t0[\"re78\"], lalondeq1_t1[\"re78\"]))\r\n",
    "lalondeq2_t0 = lalondeq2[lalondeq2[\"treat\"]==0]\r\n",
    "lalondeq2_t1 = lalondeq2[lalondeq2[\"treat\"]==1]\r\n",
    "print(ttest_ind(lalondeq2_t0[\"re78\"], lalondeq2_t1[\"re78\"]))\r\n",
    "lalondeq3_t0 = lalondeq3[lalondeq3[\"treat\"]==0]\r\n",
    "lalondeq3_t1 = lalondeq3[lalondeq3[\"treat\"]==1]\r\n",
    "print(ttest_ind(lalondeq3_t0[\"re78\"], lalondeq3_t1[\"re78\"]))\r\n",
    "lalondeq4_t0 = lalondeq4[lalondeq4[\"treat\"]==0]\r\n",
    "lalondeq4_t1 = lalondeq4[lalondeq4[\"treat\"]==1]\r\n",
    "print(ttest_ind(lalondeq4_t0[\"re78\"], lalondeq4_t1[\"re78\"]))\r\n",
    "lalondeq5_t0 = lalondeq5[lalondeq5[\"treat\"]==0]\r\n",
    "lalondeq5_t1 = lalondeq5[lalondeq5[\"treat\"]==1]\r\n",
    "print(ttest_ind(lalondeq5_t0[\"re78\"], lalondeq5_t1[\"re78\"]))"
   ],
   "outputs": [
    {
     "output_type": "stream",
     "name": "stdout",
     "text": [
      "Ttest_indResult(statistic=1.1958514331011507, pvalue=0.23413198224233306)\n",
      "Ttest_indResult(statistic=-1.4124918589916236, pvalue=0.16039341570298762)\n",
      "Ttest_indResult(statistic=-2.1951052008800143, pvalue=0.030017999776553003)\n",
      "Ttest_indResult(statistic=-0.13776412870548888, pvalue=0.8906539495909104)\n",
      "Ttest_indResult(statistic=-1.2579218253938593, pvalue=0.21088278480315145)\n"
     ]
    }
   ],
   "metadata": {}
  },
  {
   "cell_type": "code",
   "execution_count": 196,
   "source": [
    "print(len(lalondeq1))\r\n",
    "print(len(lalondeq2))\r\n",
    "print(len(lalondeq3))\r\n",
    "print(len(lalondeq4))\r\n",
    "print(len(lalondeq5))"
   ],
   "outputs": [
    {
     "output_type": "stream",
     "name": "stdout",
     "text": [
      "121\n",
      "122\n",
      "126\n",
      "124\n",
      "121\n"
     ]
    }
   ],
   "metadata": {}
  },
  {
   "cell_type": "markdown",
   "source": [
    "Para el quintil 3 vemos un p-value menor a 0.05. Esto nos dice que para los 126 individuos en este quintil, el realizar el programa genera una diferencia estadisticamente  significante respecto a su salario. Es decir, para este grupo de personas, hay evidencia de que haber realizado el programa se correlaciona con obtener un salario mas alto en el año 1978. Para todo el resto de quintiles el p-value es demasiado alto como para poder concluir algo."
   ],
   "metadata": {}
  }
 ],
 "metadata": {
  "kernelspec": {
   "name": "python3",
   "display_name": "Python 3.9.7 64-bit"
  },
  "language_info": {
   "codemirror_mode": {
    "name": "ipython",
    "version": 3
   },
   "file_extension": ".py",
   "mimetype": "text/x-python",
   "name": "python",
   "nbconvert_exporter": "python",
   "pygments_lexer": "ipython3",
   "version": "3.9.7"
  },
  "interpreter": {
   "hash": "02de5609ef162b6bcc51dd429fd31b9a1f163c414526741362218fd7f2e354ad"
  }
 },
 "nbformat": 4,
 "nbformat_minor": 5
}