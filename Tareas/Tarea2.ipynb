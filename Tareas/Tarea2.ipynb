{
 "cells": [
  {
   "cell_type": "markdown",
   "source": [
    "# Tarea 2\n",
    "\n",
    "La meta de esta tarea es mejorar el 0,48 de accuracy que obtuvo el árbol de decisión entrenado para el dataset de helados, con un train/test split de 75-25. Partamos por cargar el dataset y el split. \n",
    "\n",
    "### Detalles administrativos\n",
    "\n",
    "La tarea es individual. Para la entrega, sube este notebook al cuestionario del siding, el plazo para hacerlo es el **Viernes 24 de Septiembre, a las 20:00 hrs**. "
   ],
   "metadata": {}
  },
  {
   "cell_type": "code",
   "execution_count": 87,
   "source": [
    "import pandas as pd\r\n",
    "helados = pd.read_csv('Ice_cream.csv')\r\n",
    "helados.info()"
   ],
   "outputs": [
    {
     "output_type": "stream",
     "name": "stdout",
     "text": [
      "<class 'pandas.core.frame.DataFrame'>\n",
      "RangeIndex: 200 entries, 0 to 199\n",
      "Data columns (total 6 columns):\n",
      " #   Column      Non-Null Count  Dtype\n",
      "---  ------      --------------  -----\n",
      " 0   Unnamed: 0  200 non-null    int64\n",
      " 1   id          200 non-null    int64\n",
      " 2   female      200 non-null    int64\n",
      " 3   ice_cream   200 non-null    int64\n",
      " 4   video       200 non-null    int64\n",
      " 5   puzzle      200 non-null    int64\n",
      "dtypes: int64(6)\n",
      "memory usage: 9.5 KB\n"
     ]
    }
   ],
   "metadata": {}
  },
  {
   "cell_type": "code",
   "execution_count": 88,
   "source": [
    "from sklearn.model_selection import train_test_split\r\n",
    "\r\n",
    "X_train, X_test, y_train, y_test = train_test_split(helados[[\"female\",\"puzzle\",\"video\"]], helados[\"ice_cream\"], test_size=0.25, random_state=42)\r\n"
   ],
   "outputs": [],
   "metadata": {}
  },
  {
   "cell_type": "markdown",
   "source": [
    "## Parte I: boosting simple\n",
    "\n",
    "Lo primero que vas a hacer es un modelo de boosting simple. Implementa una clase que tenga metodos _fit_ y _predict_.\n",
    "\n",
    "El método fit recibe un set X, y para entrenar, donde X es un dataframe e y es una serie de números 0 o 1, y hace lo siguiente: \n",
    "- primero entrena un árbol de decisión A1(por ejemplo, usando sklearn como vimos en clases) con X e y\n",
    "- Sea C el conjunto de tuplas en X para los cuales A1 clasificó mal (es decir, el resultado de A1 para esa tupla es distinto de lo que tiene y), y sea y_c el pedazo de y correspondiente a esas tuplas. \n",
    "- ahora entrena un árbol de decisión A2, pero usando solo C, y_c. \n",
    "\n",
    "El método predict recibe un set X (del mismo número de dimensiones que el que se uso para fit), y ejecuta lo siguiente: \n",
    "- usa _predict_proba_ o un método similar para conseguir las probabilidades según el árbol A1 de que cada tupla en X sea clasificada como **1**\n",
    "- usa _predict_proba_ o un método similar para conseguir las probabilidades según el árbol A2 de que cada tupla en X sea clasificada como **1**\n",
    "- sea p la probabilidad calculada como 0,7 veces la proabilidad según A1 y 0,3 veces la probabilidad según A2. Tu clase predice clase 1 si p es **mayor** que 0.5, y si no predice un 0. \n"
   ],
   "metadata": {}
  },
  {
   "cell_type": "code",
   "execution_count": 89,
   "source": [
    "from sklearn import tree\r\n",
    "### escribe tu clase aquí\r\n",
    "class BoostingSimple:\r\n",
    "    def __init__(self):\r\n",
    "        self.A1 = tree.DecisionTreeClassifier()\r\n",
    "        self.A2 = tree.DecisionTreeClassifier()\r\n",
    "    def fit(self, X,y):\r\n",
    "        self.A1.fit(X,y)\r\n",
    "        predA1 = self.A1.predict(X)\r\n",
    "        Cbool = predA1 != y\r\n",
    "        C = X[Cbool]\r\n",
    "        c_y = y[Cbool]\r\n",
    "        self.A2.fit(C,c_y)\r\n",
    "    def predict(self,X):\r\n",
    "        valA1 = self.A1.predict_proba(X)[:,1]\r\n",
    "        valA2 = self.A2.predict_proba(X)[:,1]\r\n",
    "        p = valA1 * 0.7 + valA2 * 0.3\r\n",
    "        Rbool = p > 0.5\r\n",
    "        return Rbool.astype(int)\r\n",
    "        "
   ],
   "outputs": [],
   "metadata": {}
  },
  {
   "cell_type": "markdown",
   "source": [
    "Lo segundo: Usa ahora el set de datos de test para ver el accuracy score de tu clase cuando se entrena con los datos de train de los helados pero se testea con el set de test. ¿Cómo se compara con la del árbol 1? ¿Con la del árbol 2? "
   ],
   "metadata": {}
  },
  {
   "cell_type": "code",
   "execution_count": 90,
   "source": [
    "from sklearn.metrics import accuracy_score\r\n",
    "BoostTree = BoostingSimple()\r\n",
    "BoostTree.fit(X_train,y_train)\r\n",
    "\r\n",
    "Xboost = BoostTree.predict(X_test)\r\n",
    "xA1 = BoostTree.A1.predict(X_test)\r\n",
    "xA2 = BoostTree.A2.predict(X_test) \r\n",
    "\r\n",
    "print(f\"Valor accuracy con boosting: {accuracy_score(Xboost,y_test)}\") \r\n",
    "print(f\"Valor accuracy de A1: {accuracy_score(xA1,y_test)}\")\r\n",
    "print(f\"Valor accuracy de A2: {accuracy_score(xA2,y_test)}\")\r\n",
    "\r\n"
   ],
   "outputs": [
    {
     "output_type": "stream",
     "name": "stdout",
     "text": [
      "Valor accuracy con boosting: 0.54\n",
      "Valor accuracy de A1: 0.48\n",
      "Valor accuracy de A2: 0.5\n"
     ]
    }
   ],
   "metadata": {}
  },
  {
   "cell_type": "markdown",
   "source": [
    "#### Respuesta\r\n",
    "Como se puede ver, el valor de accuracy realizado con boosting aumento a 0.54 aprox (aproximado ya que el arbol de decision tambien tiene variables aleatorias que podrian cambiar el accuracy score), en comparacion a 0.48  y 0.5 de A1 y A2, respectivamente."
   ],
   "metadata": {}
  },
  {
   "cell_type": "markdown",
   "source": [
    "\n",
    "## Parte 2: agregando árboles\n",
    "\n",
    "Modifica acá abajo tu clase para que agregue un tercér árbol, que se entrene sobre el subconjunto de tuplas de C que el árbol 2 no logra clasificar bien, o bien (si este subconjunto es vacío), sobre el conjunto C' de tuplas de X que el clasificador de la parte I no logra clasificar bien. \n",
    "\n",
    "Busca si hay algún valor de pesos que puedes entregarles a los árboles en el método _predict_ para que tu nuevo clasificador mejore su accuracy score con el set de test (con pesos nos referimos a la ponderación que se le da a la probabilidad de cada árbol - para la clase con dos árboles los pesos fueron 0.7 y 0.3). Puedes limitar tu búsqueda a valores de alfa con un decimal: 0, 0.1, 0.2, hasta 0.9, 1. \n"
   ],
   "metadata": {}
  },
  {
   "cell_type": "code",
   "execution_count": 91,
   "source": [
    "### escribe la clase modificada aquí\r\n",
    "class BoostingSimple2:\r\n",
    "    def __init__(self):\r\n",
    "        self.A1 = tree.DecisionTreeClassifier()\r\n",
    "        self.A2 = tree.DecisionTreeClassifier()\r\n",
    "        self.A3 = tree.DecisionTreeClassifier()\r\n",
    "    def fit(self, X,y):\r\n",
    "        self.A1.fit(X,y)\r\n",
    "        predA1 = self.A1.predict(X)\r\n",
    "        Cbool = predA1 != y\r\n",
    "        C = X[Cbool]\r\n",
    "        c_y = y[Cbool]\r\n",
    "        self.A2.fit(C,c_y)\r\n",
    "        predA2 = self.A2.predict(C)\r\n",
    "        Ccbool = predA2 != c_y\r\n",
    "        Cc = C[Ccbool]\r\n",
    "        cc_y = y[Cbool]\r\n",
    "        self.A3.fit(Cc,cc_y)\r\n",
    "    def predict(self,X):\r\n",
    "        valA1 = self.A1.predict_proba(X)[:,1]\r\n",
    "        valA2 = self.A2.predict_proba(X)[:,1]\r\n",
    "        valA3 = self.A3.predict_proba(X)[:,1]\r\n",
    "        p = valA1 * 0.6 + valA2 * 0.3 + valA3 * 0.1\r\n",
    "        Rbool = p > 0.5\r\n",
    "        return Rbool.astype(int)\r\n",
    "        \r\n",
    "class BoostingSimple3:\r\n",
    "    def __init__(self):\r\n",
    "        self.A1 = tree.DecisionTreeClassifier()\r\n",
    "        self.A2 = tree.DecisionTreeClassifier()\r\n",
    "        self.A3 = tree.DecisionTreeClassifier()\r\n",
    "        self.boost = BoostingSimple()\r\n",
    "    def fit(self, X,y):\r\n",
    "        self.boost.fit(X,y)\r\n",
    "        self.A1 = self.boost.A1\r\n",
    "        self.A2 = self.boost.A2\r\n",
    "        predboost = self.boost.predict(X)\r\n",
    "        Cbool = predboost != y\r\n",
    "        C = X[Cbool]\r\n",
    "        c_y = y[Cbool]\r\n",
    "        self.A3.fit(C,c_y)\r\n",
    "        \r\n",
    "    def predict(self,X):\r\n",
    "        valA1 = self.A1.predict_proba(X)[:,1]\r\n",
    "        valA2 = self.A2.predict_proba(X)[:,1]\r\n",
    "        valA3 = self.A3.predict_proba(X)[:,1]\r\n",
    "        p = valA1 * 0.4 + valA2 * 0.1 + valA3 * 0.5\r\n",
    "        Rbool = p > 0.5\r\n",
    "        return Rbool.astype(int)\r\n",
    "\r\n",
    "\r\n",
    "\r\n",
    "\r\n",
    "\r\n"
   ],
   "outputs": [],
   "metadata": {}
  },
  {
   "cell_type": "markdown",
   "source": [
    "# Aviso\r\n",
    "Como no se encontraban tuplas evaluadas incorrectamente por A2, se definio otra clase boost que entrena A3 a partir de los valores incorrectos de la clase anterior."
   ],
   "metadata": {}
  },
  {
   "cell_type": "code",
   "execution_count": 92,
   "source": [
    "### busca el alfa o reporta el alfa encontrado acá. \r\n",
    "BoostTree3 = BoostingSimple3()\r\n",
    "BoostTree3.fit(X_train,y_train)\r\n",
    "Yboost = BoostTree3.predict(X_test)\r\n",
    "yA1 = BoostTree3.A1.predict(X_test)\r\n",
    "yA2 = BoostTree3.A2.predict(X_test) \r\n",
    "yA3 = BoostTree3.A2.predict(X_test) \r\n",
    "yboost = BoostTree3.boost.predict(X_test)\r\n",
    "\r\n",
    "print(f\"Valor accuracy con boosting nuevo: {accuracy_score(Yboost,y_test)}\") \r\n",
    "print(f\"Valor accuracy con boosting antiguo: {accuracy_score(yboost,y_test)}\") \r\n",
    "print(f\"Valor accuracy de A1: {accuracy_score(yA1,y_test)}\")\r\n",
    "print(f\"Valor accuracy de A2: {accuracy_score(yA2,y_test)}\")\r\n",
    "print(f\"Valor accuracy de A3: {accuracy_score(yA3,y_test)}\")\r\n",
    "print(f\"Accuracy score entre A2-A3: {accuracy_score(yA3,yA2)}\")\r\n"
   ],
   "outputs": [
    {
     "output_type": "stream",
     "name": "stdout",
     "text": [
      "Valor accuracy con boosting nuevo: 0.6\n",
      "Valor accuracy con boosting antiguo: 0.54\n",
      "Valor accuracy de A1: 0.48\n",
      "Valor accuracy de A2: 0.5\n",
      "Valor accuracy de A3: 0.5\n",
      "Accuracy score entre A2-A3: 1.0\n"
     ]
    }
   ],
   "metadata": {}
  },
  {
   "cell_type": "code",
   "execution_count": null,
   "source": [],
   "outputs": [],
   "metadata": {}
  }
 ],
 "metadata": {
  "kernelspec": {
   "name": "python3",
   "display_name": "Python 3.9.7 64-bit"
  },
  "language_info": {
   "codemirror_mode": {
    "name": "ipython",
    "version": 3
   },
   "file_extension": ".py",
   "mimetype": "text/x-python",
   "name": "python",
   "nbconvert_exporter": "python",
   "pygments_lexer": "ipython3",
   "version": "3.9.7"
  },
  "interpreter": {
   "hash": "02de5609ef162b6bcc51dd429fd31b9a1f163c414526741362218fd7f2e354ad"
  }
 },
 "nbformat": 4,
 "nbformat_minor": 5
}