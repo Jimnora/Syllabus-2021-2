{
 "cells": [
  {
   "cell_type": "code",
   "execution_count": 7,
   "source": [
    "import pandas as pd"
   ],
   "outputs": [],
   "metadata": {}
  },
  {
   "cell_type": "code",
   "execution_count": 8,
   "metadata": {},
   "outputs": [
    {
     "output_type": "stream",
     "name": "stdout",
     "text": [
      "<class 'pandas.core.frame.DataFrame'>\nRangeIndex: 345 entries, 0 to 344\nData columns (total 3 columns):\n #   Column     Non-Null Count  Dtype \n---  ------     --------------  ----- \n 0   CODIGO     345 non-null    int64 \n 1   MUNICIPIO  345 non-null    object\n 2   POBLACIÓN  345 non-null    int64 \ndtypes: int64(2), object(1)\nmemory usage: 8.2+ KB\n"
     ]
    }
   ],
   "source": [
    "df_poblacion = pd.read_csv(\"poblacion.csv\", delimiter=';')\n",
    "df_poblacion.info()"
   ]
  },
  {
   "cell_type": "code",
   "execution_count": 9,
   "metadata": {},
   "outputs": [
    {
     "output_type": "execute_result",
     "data": {
      "text/plain": [
       "     CODIGO      MUNICIPIO  POBLACIÓN\n",
       "0      1101        IQUIQUE     216514\n",
       "1      1107  ALTO HOSPICIO     124150\n",
       "2      1401   POZO ALMONTE      16683\n",
       "3      1402         CAMIÑA       1345\n",
       "4      1403       COLCHANE       1556\n",
       "..      ...            ...        ...\n",
       "340   16301     SAN CARLOS      55935\n",
       "341   16302       COIHUECO      28147\n",
       "342   16303         ÑIQUÉN      11556\n",
       "343   16304     SAN FABIÁN       4607\n",
       "344   16305    SAN NICOLÁS      12068\n",
       "\n",
       "[345 rows x 3 columns]"
      ],
      "text/html": "<div>\n<style scoped>\n    .dataframe tbody tr th:only-of-type {\n        vertical-align: middle;\n    }\n\n    .dataframe tbody tr th {\n        vertical-align: top;\n    }\n\n    .dataframe thead th {\n        text-align: right;\n    }\n</style>\n<table border=\"1\" class=\"dataframe\">\n  <thead>\n    <tr style=\"text-align: right;\">\n      <th></th>\n      <th>CODIGO</th>\n      <th>MUNICIPIO</th>\n      <th>POBLACIÓN</th>\n    </tr>\n  </thead>\n  <tbody>\n    <tr>\n      <th>0</th>\n      <td>1101</td>\n      <td>IQUIQUE</td>\n      <td>216514</td>\n    </tr>\n    <tr>\n      <th>1</th>\n      <td>1107</td>\n      <td>ALTO HOSPICIO</td>\n      <td>124150</td>\n    </tr>\n    <tr>\n      <th>2</th>\n      <td>1401</td>\n      <td>POZO ALMONTE</td>\n      <td>16683</td>\n    </tr>\n    <tr>\n      <th>3</th>\n      <td>1402</td>\n      <td>CAMIÑA</td>\n      <td>1345</td>\n    </tr>\n    <tr>\n      <th>4</th>\n      <td>1403</td>\n      <td>COLCHANE</td>\n      <td>1556</td>\n    </tr>\n    <tr>\n      <th>...</th>\n      <td>...</td>\n      <td>...</td>\n      <td>...</td>\n    </tr>\n    <tr>\n      <th>340</th>\n      <td>16301</td>\n      <td>SAN CARLOS</td>\n      <td>55935</td>\n    </tr>\n    <tr>\n      <th>341</th>\n      <td>16302</td>\n      <td>COIHUECO</td>\n      <td>28147</td>\n    </tr>\n    <tr>\n      <th>342</th>\n      <td>16303</td>\n      <td>ÑIQUÉN</td>\n      <td>11556</td>\n    </tr>\n    <tr>\n      <th>343</th>\n      <td>16304</td>\n      <td>SAN FABIÁN</td>\n      <td>4607</td>\n    </tr>\n    <tr>\n      <th>344</th>\n      <td>16305</td>\n      <td>SAN NICOLÁS</td>\n      <td>12068</td>\n    </tr>\n  </tbody>\n</table>\n<p>345 rows × 3 columns</p>\n</div>"
     },
     "metadata": {},
     "execution_count": 9
    }
   ],
   "source": [
    "df_poblacion.head(345)"
   ]
  },
  {
   "cell_type": "code",
   "execution_count": 10,
   "metadata": {},
   "outputs": [
    {
     "output_type": "stream",
     "name": "stdout",
     "text": [
      "<class 'pandas.core.frame.DataFrame'>\nRangeIndex: 345 entries, 0 to 344\nData columns (total 3 columns):\n #   Column       Non-Null Count  Dtype \n---  ------       --------------  ----- \n 0   CODIGO       345 non-null    int64 \n 1   MUNICIPIO    345 non-null    object\n 2   PRESUPUESTO  345 non-null    object\ndtypes: int64(1), object(2)\nmemory usage: 8.2+ KB\n"
     ]
    }
   ],
   "source": [
    "df_presupuesto = pd.read_csv(\"presupuesto_2019.csv\",delimiter=\";\")\n",
    "df_presupuesto.info()"
   ]
  },
  {
   "cell_type": "code",
   "execution_count": 11,
   "metadata": {},
   "outputs": [
    {
     "output_type": "execute_result",
     "data": {
      "text/plain": [
       "   CODIGO      MUNICIPIO PRESUPUESTO\n",
       "0    1101        IQUIQUE    59072234\n",
       "1    1107  ALTO HOSPICIO    13984411\n",
       "2    1401   POZO ALMONTE     7613962\n",
       "3    1402         CAMIÑA     1584008\n",
       "4    1403       COLCHANE     2500000"
      ],
      "text/html": "<div>\n<style scoped>\n    .dataframe tbody tr th:only-of-type {\n        vertical-align: middle;\n    }\n\n    .dataframe tbody tr th {\n        vertical-align: top;\n    }\n\n    .dataframe thead th {\n        text-align: right;\n    }\n</style>\n<table border=\"1\" class=\"dataframe\">\n  <thead>\n    <tr style=\"text-align: right;\">\n      <th></th>\n      <th>CODIGO</th>\n      <th>MUNICIPIO</th>\n      <th>PRESUPUESTO</th>\n    </tr>\n  </thead>\n  <tbody>\n    <tr>\n      <th>0</th>\n      <td>1101</td>\n      <td>IQUIQUE</td>\n      <td>59072234</td>\n    </tr>\n    <tr>\n      <th>1</th>\n      <td>1107</td>\n      <td>ALTO HOSPICIO</td>\n      <td>13984411</td>\n    </tr>\n    <tr>\n      <th>2</th>\n      <td>1401</td>\n      <td>POZO ALMONTE</td>\n      <td>7613962</td>\n    </tr>\n    <tr>\n      <th>3</th>\n      <td>1402</td>\n      <td>CAMIÑA</td>\n      <td>1584008</td>\n    </tr>\n    <tr>\n      <th>4</th>\n      <td>1403</td>\n      <td>COLCHANE</td>\n      <td>2500000</td>\n    </tr>\n  </tbody>\n</table>\n</div>"
     },
     "metadata": {},
     "execution_count": 11
    }
   ],
   "source": [
    "df_presupuesto.head()"
   ]
  },
  {
   "cell_type": "code",
   "execution_count": 14,
   "metadata": {},
   "outputs": [
    {
     "output_type": "stream",
     "name": "stdout",
     "text": [
      "<class 'pandas.core.frame.DataFrame'>\nRangeIndex: 346 entries, 0 to 345\nData columns (total 5 columns):\n #   Column   Non-Null Count  Dtype\n---  ------   --------------  -----\n 0   cod_com  346 non-null    int64\n 1   Apruebo  346 non-null    int64\n 2   Rechazo  346 non-null    int64\n 3   Blancos  346 non-null    int64\n 4   Nulos    346 non-null    int64\ndtypes: int64(5)\nmemory usage: 13.6 KB\n"
     ]
    }
   ],
   "source": [
    "df_resultados = pd.read_csv(\"Resultados_Pleb.csv\",delimiter=\",\")\n",
    "df_resultados.info()"
   ]
  },
  {
   "cell_type": "code",
   "execution_count": 17,
   "metadata": {},
   "outputs": [
    {
     "output_type": "execute_result",
     "data": {
      "text/plain": [
       "    cod_com  Apruebo  Rechazo  Blancos  Nulos\n",
       "0      1101    60976    18855      114    275\n",
       "1      1107    21373     4608       46    102\n",
       "2      1401     3730     1076        8     29\n",
       "3      1402      293      207        2     11\n",
       "4      1403      131      374        3     16\n",
       "..      ...      ...      ...      ...    ...\n",
       "95     6201     6173     1407        9     29\n",
       "96     6202     1158      315        3      8\n",
       "97     6203     1971      547        4      7\n",
       "98     6204     2408      499        8     11\n",
       "99     6205     2322      568       10     14\n",
       "\n",
       "[100 rows x 5 columns]"
      ],
      "text/html": "<div>\n<style scoped>\n    .dataframe tbody tr th:only-of-type {\n        vertical-align: middle;\n    }\n\n    .dataframe tbody tr th {\n        vertical-align: top;\n    }\n\n    .dataframe thead th {\n        text-align: right;\n    }\n</style>\n<table border=\"1\" class=\"dataframe\">\n  <thead>\n    <tr style=\"text-align: right;\">\n      <th></th>\n      <th>cod_com</th>\n      <th>Apruebo</th>\n      <th>Rechazo</th>\n      <th>Blancos</th>\n      <th>Nulos</th>\n    </tr>\n  </thead>\n  <tbody>\n    <tr>\n      <th>0</th>\n      <td>1101</td>\n      <td>60976</td>\n      <td>18855</td>\n      <td>114</td>\n      <td>275</td>\n    </tr>\n    <tr>\n      <th>1</th>\n      <td>1107</td>\n      <td>21373</td>\n      <td>4608</td>\n      <td>46</td>\n      <td>102</td>\n    </tr>\n    <tr>\n      <th>2</th>\n      <td>1401</td>\n      <td>3730</td>\n      <td>1076</td>\n      <td>8</td>\n      <td>29</td>\n    </tr>\n    <tr>\n      <th>3</th>\n      <td>1402</td>\n      <td>293</td>\n      <td>207</td>\n      <td>2</td>\n      <td>11</td>\n    </tr>\n    <tr>\n      <th>4</th>\n      <td>1403</td>\n      <td>131</td>\n      <td>374</td>\n      <td>3</td>\n      <td>16</td>\n    </tr>\n    <tr>\n      <th>...</th>\n      <td>...</td>\n      <td>...</td>\n      <td>...</td>\n      <td>...</td>\n      <td>...</td>\n    </tr>\n    <tr>\n      <th>95</th>\n      <td>6201</td>\n      <td>6173</td>\n      <td>1407</td>\n      <td>9</td>\n      <td>29</td>\n    </tr>\n    <tr>\n      <th>96</th>\n      <td>6202</td>\n      <td>1158</td>\n      <td>315</td>\n      <td>3</td>\n      <td>8</td>\n    </tr>\n    <tr>\n      <th>97</th>\n      <td>6203</td>\n      <td>1971</td>\n      <td>547</td>\n      <td>4</td>\n      <td>7</td>\n    </tr>\n    <tr>\n      <th>98</th>\n      <td>6204</td>\n      <td>2408</td>\n      <td>499</td>\n      <td>8</td>\n      <td>11</td>\n    </tr>\n    <tr>\n      <th>99</th>\n      <td>6205</td>\n      <td>2322</td>\n      <td>568</td>\n      <td>10</td>\n      <td>14</td>\n    </tr>\n  </tbody>\n</table>\n<p>100 rows × 5 columns</p>\n</div>"
     },
     "metadata": {},
     "execution_count": 17
    }
   ],
   "source": [
    "df_resultados.head()"
   ]
  },
  {
   "cell_type": "code",
   "execution_count": null,
   "metadata": {},
   "outputs": [],
   "source": []
  }
 ],
 "metadata": {
  "orig_nbformat": 4,
  "language_info": {
   "name": "python",
   "version": "3.9.5"
  },
  "kernelspec": {
   "name": "python3",
   "display_name": "Python 3.9.5 64-bit"
  },
  "interpreter": {
   "hash": "02de5609ef162b6bcc51dd429fd31b9a1f163c414526741362218fd7f2e354ad"
  }
 },
 "nbformat": 4,
 "nbformat_minor": 2
}